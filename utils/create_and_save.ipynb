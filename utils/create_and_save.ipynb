{
 "cells": [
  {
   "cell_type": "code",
   "execution_count": 6,
   "metadata": {},
   "outputs": [],
   "source": [
    "# Some standard imports\n",
    "import numpy as np\n",
    "\n",
    "from torch import nn\n",
    "import torch.nn as nn\n",
    "import torch.nn.init as init\n",
    "import torch.utils.model_zoo as model_zoo\n",
    "from torchprofile import profile_macs\n",
    "from torchsummary import summary\n",
    "from torchvision import models\n",
    "import torch.onnx"
   ]
  },
  {
   "cell_type": "code",
   "execution_count": 7,
   "metadata": {},
   "outputs": [],
   "source": [
    "# Super Resolution model definition in PyTorch\n",
    "class SuperResolutionNet(nn.Module):\n",
    "    def __init__(self, upscale_factor, inplace = False):\n",
    "        \n",
    "        super(SuperResolutionNet, self).__init__()\n",
    "\n",
    "        self.relu = nn.ReLU(inplace = inplace)\n",
    "        self.conv1 = nn.Conv2d(1, 64, (5, 5), (1, 1), (2, 2))\n",
    "        self.conv2 = nn.Conv2d(64, 64, (3, 3), (1, 1), (1, 1))\n",
    "        self.conv3 = nn.Conv2d(64, 32, (3, 3), (1, 1), (1, 1))\n",
    "        self.conv4 = nn.Conv2d(32, upscale_factor ** 2, (3, 3), (1, 1), (1, 1))\n",
    "        self.pixel_shuffle = nn.PixelShuffle(upscale_factor)\n",
    "\n",
    "    def forward(self, x):\n",
    "        x = self.relu(self.conv1(x))\n",
    "        x = self.relu(self.conv2(x))\n",
    "        x = self.relu(self.conv3(x))\n",
    "        x = self.pixel_shuffle(self.conv4(x))\n",
    "        return x\n",
    "\n",
    "# Create the super-resolution model by using the above model definition.\n",
    "torch_model = SuperResolutionNet(upscale_factor=3)"
   ]
  },
  {
   "cell_type": "code",
   "execution_count": 8,
   "metadata": {},
   "outputs": [
    {
     "name": "stdout",
     "output_type": "stream",
     "text": [
      "The number of FLOPs is: 5969739776\n",
      "The number of MAC is: 2984869888\n"
     ]
    },
    {
     "name": "stderr",
     "output_type": "stream",
     "text": [
      "C:\\Users\\45526\\AppData\\Roaming\\Python\\Python310\\site-packages\\torchprofile\\profile.py:22: UserWarning: No handlers found: \"aten::pixel_shuffle\". Skipped.\n",
      "  warnings.warn('No handlers found: \"{}\". Skipped.'.format(\n"
     ]
    }
   ],
   "source": [
    "# inputs = torch.randn(1, 1, 28, 28)\n",
    "# macs = profile_macs(torch_model, inputs)\n",
    "# print(f\"The number of MAC is: {macs * 2}\")\n",
    "inputs = torch.randn(1, 1, 224, 224)\n",
    "macs = profile_macs(torch_model, inputs)\n",
    "print(f\"The number of FLOPs is: {macs * 2}\")\n",
    "print(f\"The number of MAC is: {macs}\")"
   ]
  },
  {
   "cell_type": "code",
   "execution_count": 10,
   "metadata": {},
   "outputs": [
    {
     "name": "stdout",
     "output_type": "stream",
     "text": [
      "----------------------------------------------------------------\n",
      "        Layer (type)               Output Shape         Param #\n",
      "================================================================\n",
      "            Conv2d-1            [1, 64, 24, 24]           1,664\n",
      "              ReLU-2            [1, 64, 24, 24]               0\n",
      "            Conv2d-3            [1, 64, 24, 24]          36,928\n",
      "              ReLU-4            [1, 64, 24, 24]               0\n",
      "            Conv2d-5            [1, 32, 24, 24]          18,464\n",
      "              ReLU-6            [1, 32, 24, 24]               0\n",
      "            Conv2d-7             [1, 9, 24, 24]           2,601\n",
      "      PixelShuffle-8             [1, 1, 72, 72]               0\n",
      "================================================================\n",
      "Total params: 59,657\n",
      "Trainable params: 59,657\n",
      "Non-trainable params: 0\n",
      "----------------------------------------------------------------\n",
      "Input size (MB): 0.00\n",
      "Forward/backward pass size (MB): 1.49\n",
      "Params size (MB): 0.23\n",
      "Estimated Total Size (MB): 1.72\n",
      "----------------------------------------------------------------\n"
     ]
    }
   ],
   "source": [
    "summary(model = torch_model, input_size = (1, 24, 24), batch_size = 1)"
   ]
  },
  {
   "cell_type": "code",
   "execution_count": 48,
   "metadata": {},
   "outputs": [
    {
     "name": "stdout",
     "output_type": "stream",
     "text": [
      "The number of FLOPs is: 3612672\n",
      "The number of MAC is: 1806336\n"
     ]
    }
   ],
   "source": [
    "inputs = torch.randn(1, 1, 28, 28)\n",
    "macs = profile_macs(torch_model, inputs)\n",
    "print(f\"The number of FLOPs is: {macs * 2}\")\n",
    "print(f\"The number of MAC is: {macs}\")"
   ]
  },
  {
   "cell_type": "code",
   "execution_count": 49,
   "metadata": {},
   "outputs": [
    {
     "name": "stdout",
     "output_type": "stream",
     "text": [
      "Model's state_dict:\n",
      "conv1.weight \t torch.Size([64, 1, 5, 5])\n",
      "conv1.bias \t torch.Size([64])\n",
      "bn.weight \t torch.Size([64])\n",
      "bn.bias \t torch.Size([64])\n",
      "bn.running_mean \t torch.Size([64])\n",
      "bn.running_var \t torch.Size([64])\n",
      "bn.num_batches_tracked \t torch.Size([])\n",
      "fc.weight \t torch.Size([10, 50176])\n",
      "fc.bias \t torch.Size([10])\n"
     ]
    }
   ],
   "source": [
    "# Print model's state_dict\n",
    "print(\"Model's state_dict:\")\n",
    "for param_tensor in torch_model.state_dict():\n",
    "    print(param_tensor, \"\\t\", torch_model.state_dict()[param_tensor].size())"
   ]
  },
  {
   "cell_type": "code",
   "execution_count": 50,
   "metadata": {},
   "outputs": [
    {
     "name": "stdout",
     "output_type": "stream",
     "text": [
      "============== Diagnostic Run torch.onnx.export version 2.0.0+cpu ==============\n",
      "verbose: False, log level: Level.ERROR\n",
      "======================= 0 NONE 0 NOTE 0 WARNING 0 ERROR ========================\n",
      "\n"
     ]
    }
   ],
   "source": [
    "# Input to the model\n",
    "batch_size = 1\n",
    "x = torch.randn(batch_size, 1, 28, 28, requires_grad=True)\n",
    "torch_out = torch_model(x)\n",
    "\n",
    "# Export the model\n",
    "torch.onnx.export(torch_model,               # model being run\n",
    "                  x,                         # model input (or a tuple for multiple inputs)\n",
    "                  \"super_resolution.onnx\",   # where to save the model (can be a file or file-like object)\n",
    "                  export_params=True,        # store the trained parameter weights inside the model file\n",
    "                  opset_version=10,          # the ONNX version to export the model to\n",
    "                  do_constant_folding=True,  # whether to execute constant folding for optimization\n",
    "                  input_names = ['input'],   # the model's input names\n",
    "                  output_names = ['output'], # the model's output names\n",
    "                  dynamic_axes={'input' : {0 : 'batch_size'},    # variable length axes\n",
    "                                'output' : {0 : 'batch_size'}})"
   ]
  }
 ],
 "metadata": {
  "kernelspec": {
   "display_name": "pfas",
   "language": "python",
   "name": "python3"
  },
  "language_info": {
   "codemirror_mode": {
    "name": "ipython",
    "version": 3
   },
   "file_extension": ".py",
   "mimetype": "text/x-python",
   "name": "python",
   "nbconvert_exporter": "python",
   "pygments_lexer": "ipython3",
   "version": "3.10.9"
  }
 },
 "nbformat": 4,
 "nbformat_minor": 2
}
